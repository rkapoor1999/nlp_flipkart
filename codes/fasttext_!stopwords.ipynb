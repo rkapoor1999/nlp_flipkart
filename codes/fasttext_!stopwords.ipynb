{
 "cells": [
  {
   "cell_type": "markdown",
   "id": "deb1cec5",
   "metadata": {},
   "source": [
    "# Importing Libraries\n",
    "------------"
   ]
  },
  {
   "cell_type": "code",
   "execution_count": 23,
   "id": "a1f81290",
   "metadata": {},
   "outputs": [],
   "source": [
    "import pandas as pd\n",
    "from gensim.utils import simple_preprocess\n",
    "import csv\n",
    "import fasttext\n",
    "from nltk.tokenize import word_tokenize,RegexpTokenizer\n",
    "from nltk.corpus import stopwords\n",
    "from nltk.stem import PorterStemmer\n",
    "import time"
   ]
  },
  {
   "cell_type": "markdown",
   "id": "4e54803d",
   "metadata": {},
   "source": [
    "# Reading Data\n",
    "------"
   ]
  },
  {
   "cell_type": "code",
   "execution_count": 24,
   "id": "7294aa31",
   "metadata": {},
   "outputs": [],
   "source": [
    "df = pd.read_csv('set.csv')"
   ]
  },
  {
   "cell_type": "code",
   "execution_count": 25,
   "id": "e5f8501e",
   "metadata": {},
   "outputs": [],
   "source": [
    "df['description'] = df['description'].fillna('').astype(str)"
   ]
  },
  {
   "cell_type": "code",
   "execution_count": 26,
   "id": "ae00aaae",
   "metadata": {},
   "outputs": [
    {
     "data": {
      "text/html": [
       "<div>\n",
       "<style scoped>\n",
       "    .dataframe tbody tr th:only-of-type {\n",
       "        vertical-align: middle;\n",
       "    }\n",
       "\n",
       "    .dataframe tbody tr th {\n",
       "        vertical-align: top;\n",
       "    }\n",
       "\n",
       "    .dataframe thead th {\n",
       "        text-align: right;\n",
       "    }\n",
       "</style>\n",
       "<table border=\"1\" class=\"dataframe\">\n",
       "  <thead>\n",
       "    <tr style=\"text-align: right;\">\n",
       "      <th></th>\n",
       "      <th>category</th>\n",
       "      <th>description</th>\n",
       "    </tr>\n",
       "  </thead>\n",
       "  <tbody>\n",
       "    <tr>\n",
       "      <th>0</th>\n",
       "      <td>__label__Clothing-</td>\n",
       "      <td>key features of alisha solid women cycling sho...</td>\n",
       "    </tr>\n",
       "    <tr>\n",
       "      <th>1</th>\n",
       "      <td>__label__Furniture-</td>\n",
       "      <td>fabhomedecor fabric double sofa bed finish col...</td>\n",
       "    </tr>\n",
       "    <tr>\n",
       "      <th>2</th>\n",
       "      <td>__label__Footwear-</td>\n",
       "      <td>key features of aw bellies sandals wedges heel...</td>\n",
       "    </tr>\n",
       "    <tr>\n",
       "      <th>3</th>\n",
       "      <td>__label__Clothing-</td>\n",
       "      <td>key features of alisha solid women cycling sho...</td>\n",
       "    </tr>\n",
       "    <tr>\n",
       "      <th>4</th>\n",
       "      <td>__label__Pet-Supplies-</td>\n",
       "      <td>specifications of sicons all purpose arnica do...</td>\n",
       "    </tr>\n",
       "  </tbody>\n",
       "</table>\n",
       "</div>"
      ],
      "text/plain": [
       "                 category                                        description\n",
       "0      __label__Clothing-  key features of alisha solid women cycling sho...\n",
       "1     __label__Furniture-  fabhomedecor fabric double sofa bed finish col...\n",
       "2      __label__Footwear-  key features of aw bellies sandals wedges heel...\n",
       "3      __label__Clothing-  key features of alisha solid women cycling sho...\n",
       "4  __label__Pet-Supplies-  specifications of sicons all purpose arnica do..."
      ]
     },
     "execution_count": 26,
     "metadata": {},
     "output_type": "execute_result"
    }
   ],
   "source": [
    "df.head()"
   ]
  },
  {
   "cell_type": "markdown",
   "id": "d96c2005",
   "metadata": {},
   "source": [
    "# Data Preprocessing\n",
    "-------------"
   ]
  },
  {
   "cell_type": "markdown",
   "id": "2db3085e",
   "metadata": {},
   "source": [
    "#### Splitting the entries to remove the stopwords (removing useless words from our data)"
   ]
  },
  {
   "cell_type": "code",
   "execution_count": 27,
   "id": "aa280083",
   "metadata": {},
   "outputs": [],
   "source": [
    "for i in range(len(df['description'])):\n",
    "    df['description'][i] = df['description'][i].split()"
   ]
  },
  {
   "cell_type": "code",
   "execution_count": 28,
   "id": "bd4f8203",
   "metadata": {},
   "outputs": [],
   "source": [
    "sw = set(stopwords.words('english'))"
   ]
  },
  {
   "cell_type": "code",
   "execution_count": 29,
   "id": "2354ae1a",
   "metadata": {},
   "outputs": [],
   "source": [
    "def remove_stopwords(text, stopwords):\n",
    "    useful = [w for w in text if w not in stopwords]\n",
    "    return useful"
   ]
  },
  {
   "cell_type": "code",
   "execution_count": 30,
   "id": "f2d6a470",
   "metadata": {},
   "outputs": [],
   "source": [
    "for i in range(len(df['description'])):\n",
    "    df['description'][i] = remove_stopwords(df['description'][i], sw)\n",
    "    df['description'][i] = \" \".join(df['description'][i])"
   ]
  },
  {
   "cell_type": "code",
   "execution_count": 32,
   "id": "87890454",
   "metadata": {},
   "outputs": [
    {
     "data": {
      "text/html": [
       "<div>\n",
       "<style scoped>\n",
       "    .dataframe tbody tr th:only-of-type {\n",
       "        vertical-align: middle;\n",
       "    }\n",
       "\n",
       "    .dataframe tbody tr th {\n",
       "        vertical-align: top;\n",
       "    }\n",
       "\n",
       "    .dataframe thead th {\n",
       "        text-align: right;\n",
       "    }\n",
       "</style>\n",
       "<table border=\"1\" class=\"dataframe\">\n",
       "  <thead>\n",
       "    <tr style=\"text-align: right;\">\n",
       "      <th></th>\n",
       "      <th>category</th>\n",
       "      <th>description</th>\n",
       "    </tr>\n",
       "  </thead>\n",
       "  <tbody>\n",
       "    <tr>\n",
       "      <th>19995</th>\n",
       "      <td>__label__Baby-Care-</td>\n",
       "      <td>buy walldesign small vinyl sticker rs online w...</td>\n",
       "    </tr>\n",
       "    <tr>\n",
       "      <th>19996</th>\n",
       "      <td>__label__Baby-Care-</td>\n",
       "      <td>buy wallmantra large vinyl stickers sticker rs...</td>\n",
       "    </tr>\n",
       "    <tr>\n",
       "      <th>19997</th>\n",
       "      <td>__label__Baby-Care-</td>\n",
       "      <td>buy elite collection medium acrylic sticker rs...</td>\n",
       "    </tr>\n",
       "    <tr>\n",
       "      <th>19998</th>\n",
       "      <td>__label__Baby-Care-</td>\n",
       "      <td>buy elite collection medium acrylic sticker rs...</td>\n",
       "    </tr>\n",
       "    <tr>\n",
       "      <th>19999</th>\n",
       "      <td>__label__Baby-Care-</td>\n",
       "      <td>buy elite collection medium acrylic sticker rs...</td>\n",
       "    </tr>\n",
       "  </tbody>\n",
       "</table>\n",
       "</div>"
      ],
      "text/plain": [
       "                  category                                        description\n",
       "19995  __label__Baby-Care-  buy walldesign small vinyl sticker rs online w...\n",
       "19996  __label__Baby-Care-  buy wallmantra large vinyl stickers sticker rs...\n",
       "19997  __label__Baby-Care-  buy elite collection medium acrylic sticker rs...\n",
       "19998  __label__Baby-Care-  buy elite collection medium acrylic sticker rs...\n",
       "19999  __label__Baby-Care-  buy elite collection medium acrylic sticker rs..."
      ]
     },
     "execution_count": 32,
     "metadata": {},
     "output_type": "execute_result"
    }
   ],
   "source": [
    "df.tail()"
   ]
  },
  {
   "cell_type": "markdown",
   "id": "ab9ec29a",
   "metadata": {},
   "source": [
    "### Segmenting data into test and train sets"
   ]
  },
  {
   "cell_type": "code",
   "execution_count": 33,
   "id": "cf571ac5",
   "metadata": {},
   "outputs": [],
   "source": [
    "df_2 = df[17501:-1]\n",
    "df = df[0:17501]"
   ]
  },
  {
   "cell_type": "markdown",
   "id": "f4923796",
   "metadata": {},
   "source": [
    "### Exporting to csv"
   ]
  },
  {
   "cell_type": "code",
   "execution_count": 34,
   "id": "595662bf",
   "metadata": {},
   "outputs": [],
   "source": [
    "df[['category', 'description']].to_csv('train_M.txt', \n",
    "                                          index = False, \n",
    "                                          sep = ' ',\n",
    "                                          header = None, \n",
    "                                          quoting = csv.QUOTE_NONE, \n",
    "                                          quotechar = \"\", \n",
    "                                          escapechar = \" \")\n",
    "\n",
    "df_2[['category', 'description']].to_csv('test_M.txt', \n",
    "                                     index = False, \n",
    "                                     sep = ' ',\n",
    "                                     header = None, \n",
    "                                     quoting = csv.QUOTE_NONE, \n",
    "                                     quotechar = \"\", \n",
    "                                     escapechar = \" \")"
   ]
  },
  {
   "cell_type": "markdown",
   "id": "81d62ba8",
   "metadata": {},
   "source": [
    "# Modelling and evaluation\n",
    "--------------"
   ]
  },
  {
   "cell_type": "code",
   "execution_count": 37,
   "id": "859f9483",
   "metadata": {},
   "outputs": [
    {
     "name": "stdout",
     "output_type": "stream",
     "text": [
      "101.18481254577637\n"
     ]
    }
   ],
   "source": [
    "start = time.time()\n",
    "model = fasttext.train_supervised('train_M.txt', wordNgrams = 3 ,epoch=100, lr=0.3)\n",
    "end = time.time()\n",
    "print(end-start)"
   ]
  },
  {
   "cell_type": "code",
   "execution_count": 38,
   "id": "12830233",
   "metadata": {},
   "outputs": [
    {
     "data": {
      "text/plain": [
       "(2435, 0.8008213552361396, 0.8008213552361396)"
      ]
     },
     "execution_count": 38,
     "metadata": {},
     "output_type": "execute_result"
    }
   ],
   "source": [
    "model.test('test_M.txt')"
   ]
  },
  {
   "cell_type": "markdown",
   "id": "0a896431",
   "metadata": {},
   "source": [
    "### The model yields values for precision at one as 0.8008 and recall of one as 0.8008 for a test set of 2435 when fed with updated data with stopwords removed"
   ]
  },
  {
   "cell_type": "markdown",
   "id": "9b8955c6",
   "metadata": {},
   "source": [
    "#### Checking the models predictions. Note that the array value denotes the confidence of the model (the probability of the prediction to be correct according to the model)"
   ]
  },
  {
   "cell_type": "code",
   "execution_count": 39,
   "id": "a2ff605e",
   "metadata": {},
   "outputs": [
    {
     "name": "stdout",
     "output_type": "stream",
     "text": [
      "(('__label__Jewellery-',), array([0.99997759]))\n",
      "(('__label__Jewellery-',), array([0.99997759]))\n",
      "(('__label__Home-Furnishing-',), array([0.92187881]))\n",
      "(('__label__Mobiles-&-Accessories-',), array([0.99994421]))\n",
      "(('__label__Mobiles-&-Accessories-',), array([1.00000954]))\n"
     ]
    }
   ],
   "source": [
    "for i in range(0,5):\n",
    "    print(model.predict(df_2.iloc[i, 1]))"
   ]
  },
  {
   "cell_type": "code",
   "execution_count": 40,
   "id": "80b79f8b",
   "metadata": {},
   "outputs": [
    {
     "data": {
      "text/html": [
       "<div>\n",
       "<style scoped>\n",
       "    .dataframe tbody tr th:only-of-type {\n",
       "        vertical-align: middle;\n",
       "    }\n",
       "\n",
       "    .dataframe tbody tr th {\n",
       "        vertical-align: top;\n",
       "    }\n",
       "\n",
       "    .dataframe thead th {\n",
       "        text-align: right;\n",
       "    }\n",
       "</style>\n",
       "<table border=\"1\" class=\"dataframe\">\n",
       "  <thead>\n",
       "    <tr style=\"text-align: right;\">\n",
       "      <th></th>\n",
       "      <th>category</th>\n",
       "      <th>description</th>\n",
       "    </tr>\n",
       "  </thead>\n",
       "  <tbody>\n",
       "    <tr>\n",
       "      <th>17501</th>\n",
       "      <td>__label__Jewellery-</td>\n",
       "      <td>disney brass cubic zirconia rhodium bracelet b...</td>\n",
       "    </tr>\n",
       "    <tr>\n",
       "      <th>17502</th>\n",
       "      <td>__label__Jewellery-</td>\n",
       "      <td>disney brass cubic zirconia rhodium bracelet b...</td>\n",
       "    </tr>\n",
       "    <tr>\n",
       "      <th>17503</th>\n",
       "      <td>__label__Home-Furnishing-</td>\n",
       "      <td>rustic india geometric cushions cover pack cm ...</td>\n",
       "    </tr>\n",
       "    <tr>\n",
       "      <th>17504</th>\n",
       "      <td>__label__Mobiles-&amp;-Accessories-</td>\n",
       "      <td>theskinmantra sleeve versions apple ipad multi...</td>\n",
       "    </tr>\n",
       "    <tr>\n",
       "      <th>17505</th>\n",
       "      <td>__label__Mobiles-&amp;-Accessories-</td>\n",
       "      <td>thelostpuppy back cover apple ipad air multico...</td>\n",
       "    </tr>\n",
       "  </tbody>\n",
       "</table>\n",
       "</div>"
      ],
      "text/plain": [
       "                              category  \\\n",
       "17501              __label__Jewellery-   \n",
       "17502              __label__Jewellery-   \n",
       "17503        __label__Home-Furnishing-   \n",
       "17504  __label__Mobiles-&-Accessories-   \n",
       "17505  __label__Mobiles-&-Accessories-   \n",
       "\n",
       "                                             description  \n",
       "17501  disney brass cubic zirconia rhodium bracelet b...  \n",
       "17502  disney brass cubic zirconia rhodium bracelet b...  \n",
       "17503  rustic india geometric cushions cover pack cm ...  \n",
       "17504  theskinmantra sleeve versions apple ipad multi...  \n",
       "17505  thelostpuppy back cover apple ipad air multico...  "
      ]
     },
     "execution_count": 40,
     "metadata": {},
     "output_type": "execute_result"
    }
   ],
   "source": [
    "df_2.head()"
   ]
  },
  {
   "cell_type": "markdown",
   "id": "27d54373",
   "metadata": {},
   "source": [
    "# Saving the Model\n",
    "------------"
   ]
  },
  {
   "cell_type": "code",
   "execution_count": 41,
   "id": "99ec1ef5",
   "metadata": {},
   "outputs": [],
   "source": [
    "model.save_model('text_class_stopwords.bin')"
   ]
  }
 ],
 "metadata": {
  "kernelspec": {
   "display_name": "Python 3",
   "language": "python",
   "name": "python3"
  },
  "language_info": {
   "codemirror_mode": {
    "name": "ipython",
    "version": 3
   },
   "file_extension": ".py",
   "mimetype": "text/x-python",
   "name": "python",
   "nbconvert_exporter": "python",
   "pygments_lexer": "ipython3",
   "version": "3.8.5"
  }
 },
 "nbformat": 4,
 "nbformat_minor": 5
}
