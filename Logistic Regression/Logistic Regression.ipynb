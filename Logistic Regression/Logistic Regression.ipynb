{
 "cells": [
  {
   "cell_type": "markdown",
   "id": "32a0e150",
   "metadata": {},
   "source": [
    "# Importing libraries\n",
    "--------------"
   ]
  },
  {
   "cell_type": "code",
   "execution_count": 1,
   "id": "d014b773",
   "metadata": {},
   "outputs": [],
   "source": [
    "import pandas as pd\n",
    "from sklearn.linear_model import LogisticRegression\n",
    "from sklearn.feature_extraction.text import TfidfVectorizer\n",
    "from sklearn.model_selection import train_test_split"
   ]
  },
  {
   "cell_type": "markdown",
   "id": "2e5de8a6",
   "metadata": {},
   "source": [
    "# Reading Data\n",
    "------------------"
   ]
  },
  {
   "cell_type": "code",
   "execution_count": 2,
   "id": "ed586104",
   "metadata": {},
   "outputs": [],
   "source": [
    "df = pd.read_csv(\"set_2.csv\")"
   ]
  },
  {
   "cell_type": "code",
   "execution_count": 3,
   "id": "e3b50735",
   "metadata": {},
   "outputs": [
    {
     "data": {
      "text/html": [
       "<div>\n",
       "<style scoped>\n",
       "    .dataframe tbody tr th:only-of-type {\n",
       "        vertical-align: middle;\n",
       "    }\n",
       "\n",
       "    .dataframe tbody tr th {\n",
       "        vertical-align: top;\n",
       "    }\n",
       "\n",
       "    .dataframe thead th {\n",
       "        text-align: right;\n",
       "    }\n",
       "</style>\n",
       "<table border=\"1\" class=\"dataframe\">\n",
       "  <thead>\n",
       "    <tr style=\"text-align: right;\">\n",
       "      <th></th>\n",
       "      <th>category</th>\n",
       "      <th>description</th>\n",
       "    </tr>\n",
       "  </thead>\n",
       "  <tbody>\n",
       "    <tr>\n",
       "      <th>0</th>\n",
       "      <td>Clothing</td>\n",
       "      <td>key features of alisha solid women cycling sho...</td>\n",
       "    </tr>\n",
       "    <tr>\n",
       "      <th>1</th>\n",
       "      <td>Furniture</td>\n",
       "      <td>fabhomedecor fabric double sofa bed finish col...</td>\n",
       "    </tr>\n",
       "    <tr>\n",
       "      <th>2</th>\n",
       "      <td>Footwear</td>\n",
       "      <td>key features of aw bellies sandals wedges heel...</td>\n",
       "    </tr>\n",
       "    <tr>\n",
       "      <th>3</th>\n",
       "      <td>Clothing</td>\n",
       "      <td>key features of alisha solid women cycling sho...</td>\n",
       "    </tr>\n",
       "    <tr>\n",
       "      <th>4</th>\n",
       "      <td>Pet Supplies</td>\n",
       "      <td>specifications of sicons all purpose arnica do...</td>\n",
       "    </tr>\n",
       "  </tbody>\n",
       "</table>\n",
       "</div>"
      ],
      "text/plain": [
       "        category                                        description\n",
       "0      Clothing   key features of alisha solid women cycling sho...\n",
       "1     Furniture   fabhomedecor fabric double sofa bed finish col...\n",
       "2      Footwear   key features of aw bellies sandals wedges heel...\n",
       "3      Clothing   key features of alisha solid women cycling sho...\n",
       "4  Pet Supplies   specifications of sicons all purpose arnica do..."
      ]
     },
     "execution_count": 3,
     "metadata": {},
     "output_type": "execute_result"
    }
   ],
   "source": [
    "df.head()"
   ]
  },
  {
   "cell_type": "markdown",
   "id": "86c1af43",
   "metadata": {},
   "source": [
    "# Data Preparation\n",
    "----------"
   ]
  },
  {
   "cell_type": "markdown",
   "id": "c131e2e5",
   "metadata": {},
   "source": [
    "#### Chaning the nan with whitespaces as nan is considered as a float in numpy which hinders with out further processing"
   ]
  },
  {
   "cell_type": "code",
   "execution_count": 4,
   "id": "790f5868",
   "metadata": {},
   "outputs": [],
   "source": [
    "df['description'] = df['description'].fillna('').astype(str)"
   ]
  },
  {
   "cell_type": "markdown",
   "id": "55933bf8",
   "metadata": {},
   "source": [
    "#### Making the test train split at 75:25 ratio"
   ]
  },
  {
   "cell_type": "code",
   "execution_count": 5,
   "id": "db8a432a",
   "metadata": {},
   "outputs": [],
   "source": [
    "training_data, testing_data = train_test_split(df,random_state = 2000)"
   ]
  },
  {
   "cell_type": "code",
   "execution_count": 6,
   "id": "a182b287",
   "metadata": {},
   "outputs": [
    {
     "data": {
      "text/plain": [
       "6608     flipkart com buy ski fancy school art plastic ...\n",
       "8567     timewel analog watch for men buy timewel analo...\n",
       "18395    specifications of ucb baby boy shirt general d...\n",
       "14820    nutcase sticker wrap design football love ml b...\n",
       "15820    get glamr designer brogue boots buy get glamr ...\n",
       "                               ...                        \n",
       "4380     wow crystal necklace buy wow crystal necklace ...\n",
       "13947    nimya solid men polo neck shirt buy maroon bla...\n",
       "1590     adhira alloy jewel set buy adhira alloy jewel ...\n",
       "4045     buy allure auto cm car mat tata nano for rs on...\n",
       "4936     buy pratami silk solid blouse material for rs ...\n",
       "Name: description, Length: 15000, dtype: object"
      ]
     },
     "execution_count": 6,
     "metadata": {},
     "output_type": "execute_result"
    }
   ],
   "source": [
    "training_data['description']"
   ]
  },
  {
   "cell_type": "code",
   "execution_count": 7,
   "id": "428dca22",
   "metadata": {},
   "outputs": [],
   "source": [
    "Y_train = training_data['category'].values\n",
    "Y_test = testing_data['category'].values"
   ]
  },
  {
   "cell_type": "markdown",
   "id": "0b1df6a5",
   "metadata": {},
   "source": [
    "### Making a vocabulary out of our description coloumn using the tfid vectorizer as our method of feature weighting"
   ]
  },
  {
   "cell_type": "code",
   "execution_count": 17,
   "id": "3d193e0a",
   "metadata": {},
   "outputs": [],
   "source": [
    "def tdif_ext(training_data, testing_data):\n",
    "    vect = TfidfVectorizer(use_idf=True, max_df=0.95)\n",
    "    vect.fit_transform(training_data[\"description\"].values)\n",
    "        \n",
    "    train_set = vect.transform(training_data[\"description\"].values)\n",
    "    test_set = vect.transform(testing_data[\"description\"].values)\n",
    "        \n",
    "    return train_set, test_set, vect"
   ]
  },
  {
   "cell_type": "code",
   "execution_count": 31,
   "id": "0ac90e2a",
   "metadata": {},
   "outputs": [],
   "source": [
    "X_train, X_test, transformer = tdif_ext(training_data,testing_data)#,type=feature_rep)"
   ]
  },
  {
   "cell_type": "markdown",
   "id": "e109bd77",
   "metadata": {},
   "source": [
    "# Modelling and Evaluation\n",
    "-----------------"
   ]
  },
  {
   "cell_type": "code",
   "execution_count": 28,
   "id": "a04f1ae3",
   "metadata": {},
   "outputs": [],
   "source": [
    "model = LogisticRegression(solver='liblinear',random_state=0, C=5, penalty='l2').fit(X_train, Y_train)"
   ]
  },
  {
   "cell_type": "code",
   "execution_count": 29,
   "id": "5aec5814",
   "metadata": {},
   "outputs": [
    {
     "data": {
      "text/plain": [
       "0.9614"
      ]
     },
     "execution_count": 29,
     "metadata": {},
     "output_type": "execute_result"
    }
   ],
   "source": [
    "model.score(X_test, Y_test)"
   ]
  },
  {
   "cell_type": "markdown",
   "id": "4b454aa5",
   "metadata": {},
   "source": [
    "### The model returns a score of 96.14 percent."
   ]
  },
  {
   "cell_type": "markdown",
   "id": "b1bc234d",
   "metadata": {},
   "source": [
    "### Testing it accros a few entries to see the actual vs predicted labels"
   ]
  },
  {
   "cell_type": "code",
   "execution_count": 21,
   "id": "2e1357dd",
   "metadata": {},
   "outputs": [
    {
     "name": "stdout",
     "output_type": "stream",
     "text": [
      "Home Furnishing  ['Home Furnishing ']\n",
      "Home Furnishing  ['Home Furnishing ']\n",
      "Home Furnishing  ['Home Furnishing ']\n",
      "Home Furnishing  ['Home Furnishing ']\n",
      "Mobiles & Accessories  ['Mobiles & Accessories ']\n",
      "Mobiles & Accessories  ['Mobiles & Accessories ']\n",
      "Mobiles & Accessories  ['Mobiles & Accessories ']\n",
      "Mobiles & Accessories  ['Mobiles & Accessories ']\n",
      "Jewellery  ['Jewellery ']\n",
      "Jewellery  ['Jewellery ']\n",
      "Mobiles & Accessories  ['Mobiles & Accessories ']\n",
      "Jewellery  ['Jewellery ']\n",
      "Mobiles & Accessories  ['Mobiles & Accessories ']\n",
      "Mobiles & Accessories  ['Mobiles & Accessories ']\n",
      "Mobiles & Accessories  ['Mobiles & Accessories ']\n",
      "Mobiles & Accessories  ['Mobiles & Accessories ']\n",
      "Mobiles & Accessories  ['Mobiles & Accessories ']\n",
      "Mobiles & Accessories  ['Mobiles & Accessories ']\n",
      "Mobiles & Accessories  ['Mobiles & Accessories ']\n",
      "Mobiles & Accessories  ['Mobiles & Accessories ']\n",
      "Mobiles & Accessories  ['Mobiles & Accessories ']\n",
      "Mobiles & Accessories  ['Mobiles & Accessories ']\n",
      "Mobiles & Accessories  ['Mobiles & Accessories ']\n",
      "Mobiles & Accessories  ['Mobiles & Accessories ']\n",
      "Jewellery  ['Jewellery ']\n",
      "Jewellery  ['Jewellery ']\n",
      "Jewellery  ['Jewellery ']\n",
      "Jewellery  ['Jewellery ']\n",
      "Jewellery  ['Jewellery ']\n",
      "Jewellery  ['Jewellery ']\n",
      "Jewellery  ['Jewellery ']\n",
      "Jewellery  ['Jewellery ']\n",
      "Jewellery  ['Jewellery ']\n",
      "Jewellery  ['Jewellery ']\n",
      "Jewellery  ['Jewellery ']\n",
      "Jewellery  ['Jewellery ']\n",
      "Mobiles & Accessories  ['Mobiles & Accessories ']\n",
      "Jewellery  ['Jewellery ']\n",
      "Mobiles & Accessories  ['Mobiles & Accessories ']\n",
      "Home Furnishing  ['Home Furnishing ']\n",
      "Jewellery  ['Jewellery ']\n",
      "Jewellery  ['Jewellery ']\n",
      "Home Furnishing  ['Home Furnishing ']\n",
      "Mobiles & Accessories  ['Mobiles & Accessories ']\n",
      "Mobiles & Accessories  ['Mobiles & Accessories ']\n",
      "Baby Care  ['Home Decor & Festive Needs ']\n",
      "Mobiles & Accessories  ['Mobiles & Accessories ']\n",
      "Mobiles & Accessories  ['Mobiles & Accessories ']\n",
      "Mobiles & Accessories  ['Mobiles & Accessories ']\n",
      "Mobiles & Accessories  ['Mobiles & Accessories ']\n",
      "Mobiles & Accessories  ['Mobiles & Accessories ']\n",
      "Home Furnishing  ['Home Furnishing ']\n",
      "Jewellery  ['Jewellery ']\n",
      "Mobiles & Accessories  ['Mobiles & Accessories ']\n",
      "Jewellery  ['Jewellery ']\n",
      "Mobiles & Accessories  ['Mobiles & Accessories ']\n",
      "Jewellery  ['Jewellery ']\n",
      "Mobiles & Accessories  ['Mobiles & Accessories ']\n",
      "Jewellery  ['Jewellery ']\n",
      "Jewellery  ['Jewellery ']\n",
      "Jewellery  ['Jewellery ']\n"
     ]
    }
   ],
   "source": [
    "for i in range(16999,17060):\n",
    "    print(df[\"category\"][i], end=\" \")\n",
    "    print(model.predict(transformer.transform([df[\"description\"][i]])))"
   ]
  },
  {
   "cell_type": "markdown",
   "id": "b6b341e5",
   "metadata": {},
   "source": [
    "### Testing it with a new random entry copied from a Tshirt description from flipkart.com"
   ]
  },
  {
   "cell_type": "code",
   "execution_count": 32,
   "id": "1ed10588",
   "metadata": {},
   "outputs": [
    {
     "name": "stdout",
     "output_type": "stream",
     "text": [
      "['Clothing ']\n"
     ]
    }
   ],
   "source": [
    "print(model.predict(transformer.transform([\"High quality Printed Hoodie Full sleeves Tshirt direct from the manufacturers. 100% Pure combed 155 - 160 GSM Cotton used. Gives you perfect fit, comfort feel and handsome look. Trusted brand online and no compromise on quality\"])))"
   ]
  }
 ],
 "metadata": {
  "kernelspec": {
   "display_name": "Python 3",
   "language": "python",
   "name": "python3"
  },
  "language_info": {
   "codemirror_mode": {
    "name": "ipython",
    "version": 3
   },
   "file_extension": ".py",
   "mimetype": "text/x-python",
   "name": "python",
   "nbconvert_exporter": "python",
   "pygments_lexer": "ipython3",
   "version": "3.8.5"
  }
 },
 "nbformat": 4,
 "nbformat_minor": 5
}
