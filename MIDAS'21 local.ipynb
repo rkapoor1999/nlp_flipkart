{
 "cells": [
  {
   "cell_type": "markdown",
   "id": "deb1cec5",
   "metadata": {},
   "source": [
    "# Importing Libraries\n",
    "------------"
   ]
  },
  {
   "cell_type": "code",
   "execution_count": 1,
   "id": "a1f81290",
   "metadata": {},
   "outputs": [],
   "source": [
    "import pandas as pd\n",
    "from gensim.utils import simple_preprocess\n",
    "import csv\n",
    "import fasttext"
   ]
  },
  {
   "cell_type": "markdown",
   "id": "4e54803d",
   "metadata": {},
   "source": [
    "# Reading Data\n",
    "------"
   ]
  },
  {
   "cell_type": "code",
   "execution_count": 2,
   "id": "7294aa31",
   "metadata": {},
   "outputs": [],
   "source": [
    "df = pd.read_csv('flipkart.csv').rename(columns = {'product_category_tree':'category'})"
   ]
  },
  {
   "cell_type": "code",
   "execution_count": 3,
   "id": "ae00aaae",
   "metadata": {},
   "outputs": [
    {
     "data": {
      "text/html": [
       "<div>\n",
       "<style scoped>\n",
       "    .dataframe tbody tr th:only-of-type {\n",
       "        vertical-align: middle;\n",
       "    }\n",
       "\n",
       "    .dataframe tbody tr th {\n",
       "        vertical-align: top;\n",
       "    }\n",
       "\n",
       "    .dataframe thead th {\n",
       "        text-align: right;\n",
       "    }\n",
       "</style>\n",
       "<table border=\"1\" class=\"dataframe\">\n",
       "  <thead>\n",
       "    <tr style=\"text-align: right;\">\n",
       "      <th></th>\n",
       "      <th>uniq_id</th>\n",
       "      <th>crawl_timestamp</th>\n",
       "      <th>product_url</th>\n",
       "      <th>product_name</th>\n",
       "      <th>category</th>\n",
       "      <th>pid</th>\n",
       "      <th>retail_price</th>\n",
       "      <th>discounted_price</th>\n",
       "      <th>image</th>\n",
       "      <th>is_FK_Advantage_product</th>\n",
       "      <th>description</th>\n",
       "      <th>product_rating</th>\n",
       "      <th>overall_rating</th>\n",
       "      <th>brand</th>\n",
       "      <th>product_specifications</th>\n",
       "    </tr>\n",
       "  </thead>\n",
       "  <tbody>\n",
       "    <tr>\n",
       "      <th>0</th>\n",
       "      <td>c2d766ca982eca8304150849735ffef9</td>\n",
       "      <td>2016-03-25 22:59:23 +0000</td>\n",
       "      <td>http://www.flipkart.com/alisha-solid-women-s-c...</td>\n",
       "      <td>Alisha Solid Women's Cycling Shorts</td>\n",
       "      <td>[\"Clothing &gt;&gt; Women's Clothing &gt;&gt; Lingerie, Sl...</td>\n",
       "      <td>SRTEH2FF9KEDEFGF</td>\n",
       "      <td>999.0</td>\n",
       "      <td>379.0</td>\n",
       "      <td>[\"http://img5a.flixcart.com/image/short/u/4/a/...</td>\n",
       "      <td>False</td>\n",
       "      <td>Key Features of Alisha Solid Women's Cycling S...</td>\n",
       "      <td>No rating available</td>\n",
       "      <td>No rating available</td>\n",
       "      <td>Alisha</td>\n",
       "      <td>{\"product_specification\"=&gt;[{\"key\"=&gt;\"Number of ...</td>\n",
       "    </tr>\n",
       "    <tr>\n",
       "      <th>1</th>\n",
       "      <td>7f7036a6d550aaa89d34c77bd39a5e48</td>\n",
       "      <td>2016-03-25 22:59:23 +0000</td>\n",
       "      <td>http://www.flipkart.com/fabhomedecor-fabric-do...</td>\n",
       "      <td>FabHomeDecor Fabric Double Sofa Bed</td>\n",
       "      <td>[\"Furniture &gt;&gt; Living Room Furniture &gt;&gt; Sofa B...</td>\n",
       "      <td>SBEEH3QGU7MFYJFY</td>\n",
       "      <td>32157.0</td>\n",
       "      <td>22646.0</td>\n",
       "      <td>[\"http://img6a.flixcart.com/image/sofa-bed/j/f...</td>\n",
       "      <td>False</td>\n",
       "      <td>FabHomeDecor Fabric Double Sofa Bed (Finish Co...</td>\n",
       "      <td>No rating available</td>\n",
       "      <td>No rating available</td>\n",
       "      <td>FabHomeDecor</td>\n",
       "      <td>{\"product_specification\"=&gt;[{\"key\"=&gt;\"Installati...</td>\n",
       "    </tr>\n",
       "    <tr>\n",
       "      <th>2</th>\n",
       "      <td>f449ec65dcbc041b6ae5e6a32717d01b</td>\n",
       "      <td>2016-03-25 22:59:23 +0000</td>\n",
       "      <td>http://www.flipkart.com/aw-bellies/p/itmeh4grg...</td>\n",
       "      <td>AW Bellies</td>\n",
       "      <td>[\"Footwear &gt;&gt; Women's Footwear &gt;&gt; Ballerinas &gt;...</td>\n",
       "      <td>SHOEH4GRSUBJGZXE</td>\n",
       "      <td>999.0</td>\n",
       "      <td>499.0</td>\n",
       "      <td>[\"http://img5a.flixcart.com/image/shoe/7/z/z/r...</td>\n",
       "      <td>False</td>\n",
       "      <td>Key Features of AW Bellies Sandals Wedges Heel...</td>\n",
       "      <td>No rating available</td>\n",
       "      <td>No rating available</td>\n",
       "      <td>AW</td>\n",
       "      <td>{\"product_specification\"=&gt;[{\"key\"=&gt;\"Ideal For\"...</td>\n",
       "    </tr>\n",
       "    <tr>\n",
       "      <th>3</th>\n",
       "      <td>0973b37acd0c664e3de26e97e5571454</td>\n",
       "      <td>2016-03-25 22:59:23 +0000</td>\n",
       "      <td>http://www.flipkart.com/alisha-solid-women-s-c...</td>\n",
       "      <td>Alisha Solid Women's Cycling Shorts</td>\n",
       "      <td>[\"Clothing &gt;&gt; Women's Clothing &gt;&gt; Lingerie, Sl...</td>\n",
       "      <td>SRTEH2F6HUZMQ6SJ</td>\n",
       "      <td>699.0</td>\n",
       "      <td>267.0</td>\n",
       "      <td>[\"http://img5a.flixcart.com/image/short/6/2/h/...</td>\n",
       "      <td>False</td>\n",
       "      <td>Key Features of Alisha Solid Women's Cycling S...</td>\n",
       "      <td>No rating available</td>\n",
       "      <td>No rating available</td>\n",
       "      <td>Alisha</td>\n",
       "      <td>{\"product_specification\"=&gt;[{\"key\"=&gt;\"Number of ...</td>\n",
       "    </tr>\n",
       "    <tr>\n",
       "      <th>4</th>\n",
       "      <td>bc940ea42ee6bef5ac7cea3fb5cfbee7</td>\n",
       "      <td>2016-03-25 22:59:23 +0000</td>\n",
       "      <td>http://www.flipkart.com/sicons-all-purpose-arn...</td>\n",
       "      <td>Sicons All Purpose Arnica Dog Shampoo</td>\n",
       "      <td>[\"Pet Supplies &gt;&gt; Grooming &gt;&gt; Skin &amp; Coat Care...</td>\n",
       "      <td>PSOEH3ZYDMSYARJ5</td>\n",
       "      <td>220.0</td>\n",
       "      <td>210.0</td>\n",
       "      <td>[\"http://img5a.flixcart.com/image/pet-shampoo/...</td>\n",
       "      <td>False</td>\n",
       "      <td>Specifications of Sicons All Purpose Arnica Do...</td>\n",
       "      <td>No rating available</td>\n",
       "      <td>No rating available</td>\n",
       "      <td>Sicons</td>\n",
       "      <td>{\"product_specification\"=&gt;[{\"key\"=&gt;\"Pet Type\",...</td>\n",
       "    </tr>\n",
       "  </tbody>\n",
       "</table>\n",
       "</div>"
      ],
      "text/plain": [
       "                            uniq_id            crawl_timestamp  \\\n",
       "0  c2d766ca982eca8304150849735ffef9  2016-03-25 22:59:23 +0000   \n",
       "1  7f7036a6d550aaa89d34c77bd39a5e48  2016-03-25 22:59:23 +0000   \n",
       "2  f449ec65dcbc041b6ae5e6a32717d01b  2016-03-25 22:59:23 +0000   \n",
       "3  0973b37acd0c664e3de26e97e5571454  2016-03-25 22:59:23 +0000   \n",
       "4  bc940ea42ee6bef5ac7cea3fb5cfbee7  2016-03-25 22:59:23 +0000   \n",
       "\n",
       "                                         product_url  \\\n",
       "0  http://www.flipkart.com/alisha-solid-women-s-c...   \n",
       "1  http://www.flipkart.com/fabhomedecor-fabric-do...   \n",
       "2  http://www.flipkart.com/aw-bellies/p/itmeh4grg...   \n",
       "3  http://www.flipkart.com/alisha-solid-women-s-c...   \n",
       "4  http://www.flipkart.com/sicons-all-purpose-arn...   \n",
       "\n",
       "                            product_name  \\\n",
       "0    Alisha Solid Women's Cycling Shorts   \n",
       "1    FabHomeDecor Fabric Double Sofa Bed   \n",
       "2                             AW Bellies   \n",
       "3    Alisha Solid Women's Cycling Shorts   \n",
       "4  Sicons All Purpose Arnica Dog Shampoo   \n",
       "\n",
       "                                            category               pid  \\\n",
       "0  [\"Clothing >> Women's Clothing >> Lingerie, Sl...  SRTEH2FF9KEDEFGF   \n",
       "1  [\"Furniture >> Living Room Furniture >> Sofa B...  SBEEH3QGU7MFYJFY   \n",
       "2  [\"Footwear >> Women's Footwear >> Ballerinas >...  SHOEH4GRSUBJGZXE   \n",
       "3  [\"Clothing >> Women's Clothing >> Lingerie, Sl...  SRTEH2F6HUZMQ6SJ   \n",
       "4  [\"Pet Supplies >> Grooming >> Skin & Coat Care...  PSOEH3ZYDMSYARJ5   \n",
       "\n",
       "   retail_price  discounted_price  \\\n",
       "0         999.0             379.0   \n",
       "1       32157.0           22646.0   \n",
       "2         999.0             499.0   \n",
       "3         699.0             267.0   \n",
       "4         220.0             210.0   \n",
       "\n",
       "                                               image  is_FK_Advantage_product  \\\n",
       "0  [\"http://img5a.flixcart.com/image/short/u/4/a/...                    False   \n",
       "1  [\"http://img6a.flixcart.com/image/sofa-bed/j/f...                    False   \n",
       "2  [\"http://img5a.flixcart.com/image/shoe/7/z/z/r...                    False   \n",
       "3  [\"http://img5a.flixcart.com/image/short/6/2/h/...                    False   \n",
       "4  [\"http://img5a.flixcart.com/image/pet-shampoo/...                    False   \n",
       "\n",
       "                                         description       product_rating  \\\n",
       "0  Key Features of Alisha Solid Women's Cycling S...  No rating available   \n",
       "1  FabHomeDecor Fabric Double Sofa Bed (Finish Co...  No rating available   \n",
       "2  Key Features of AW Bellies Sandals Wedges Heel...  No rating available   \n",
       "3  Key Features of Alisha Solid Women's Cycling S...  No rating available   \n",
       "4  Specifications of Sicons All Purpose Arnica Do...  No rating available   \n",
       "\n",
       "        overall_rating         brand  \\\n",
       "0  No rating available        Alisha   \n",
       "1  No rating available  FabHomeDecor   \n",
       "2  No rating available            AW   \n",
       "3  No rating available        Alisha   \n",
       "4  No rating available        Sicons   \n",
       "\n",
       "                              product_specifications  \n",
       "0  {\"product_specification\"=>[{\"key\"=>\"Number of ...  \n",
       "1  {\"product_specification\"=>[{\"key\"=>\"Installati...  \n",
       "2  {\"product_specification\"=>[{\"key\"=>\"Ideal For\"...  \n",
       "3  {\"product_specification\"=>[{\"key\"=>\"Number of ...  \n",
       "4  {\"product_specification\"=>[{\"key\"=>\"Pet Type\",...  "
      ]
     },
     "execution_count": 3,
     "metadata": {},
     "output_type": "execute_result"
    }
   ],
   "source": [
    "df.head()"
   ]
  },
  {
   "cell_type": "markdown",
   "id": "d96c2005",
   "metadata": {},
   "source": [
    "# Data Preprocessing"
   ]
  },
  {
   "cell_type": "code",
   "execution_count": 4,
   "id": "762861f9",
   "metadata": {},
   "outputs": [],
   "source": [
    "df.drop('retail_price', axis=1, inplace = True)\n",
    "df.drop('discounted_price', axis=1, inplace = True)\n",
    "df.drop('is_FK_Advantage_product', axis=1, inplace = True)\n",
    "df.drop('product_rating', axis=1, inplace = True)\n",
    "df.drop('overall_rating', axis=1, inplace = True)\n",
    "df.drop('brand', axis=1, inplace = True)\n",
    "df.drop('uniq_id', axis=1, inplace = True)\n",
    "df.drop('crawl_timestamp', axis=1, inplace = True)\n",
    "df.drop('product_url', axis=1, inplace = True)\n",
    "df.drop('pid', axis=1, inplace = True)\n",
    "df.drop('image', axis=1, inplace = True)\n",
    "df.drop('product_specifications', axis=1, inplace = True)\n",
    "df.drop('product_name', axis=1, inplace = True)"
   ]
  },
  {
   "cell_type": "markdown",
   "id": "1828abb8",
   "metadata": {},
   "source": [
    "#### Using only the description coloumn to predict the category. Leaving out other coloumns for faster processing"
   ]
  },
  {
   "cell_type": "code",
   "execution_count": 5,
   "id": "c8dcea2c",
   "metadata": {},
   "outputs": [
    {
     "data": {
      "text/plain": [
       "20000"
      ]
     },
     "execution_count": 5,
     "metadata": {},
     "output_type": "execute_result"
    }
   ],
   "source": [
    "len(df['category'])"
   ]
  },
  {
   "cell_type": "code",
   "execution_count": 6,
   "id": "71a12ab6",
   "metadata": {},
   "outputs": [],
   "source": [
    "for i in range(len(df['category'])):\n",
    "    df['category'][i] = df['category'][i][2:-2]"
   ]
  },
  {
   "cell_type": "code",
   "execution_count": 7,
   "id": "971f34ed",
   "metadata": {},
   "outputs": [],
   "source": [
    "for i in range(len(df['category'])):\n",
    "    df['category'][i] = df['category'][i].split(\">>\")[0]"
   ]
  },
  {
   "cell_type": "code",
   "execution_count": 8,
   "id": "603f6cfa",
   "metadata": {},
   "outputs": [
    {
     "data": {
      "text/html": [
       "<div>\n",
       "<style scoped>\n",
       "    .dataframe tbody tr th:only-of-type {\n",
       "        vertical-align: middle;\n",
       "    }\n",
       "\n",
       "    .dataframe tbody tr th {\n",
       "        vertical-align: top;\n",
       "    }\n",
       "\n",
       "    .dataframe thead th {\n",
       "        text-align: right;\n",
       "    }\n",
       "</style>\n",
       "<table border=\"1\" class=\"dataframe\">\n",
       "  <thead>\n",
       "    <tr style=\"text-align: right;\">\n",
       "      <th></th>\n",
       "      <th>category</th>\n",
       "      <th>description</th>\n",
       "    </tr>\n",
       "  </thead>\n",
       "  <tbody>\n",
       "    <tr>\n",
       "      <th>19995</th>\n",
       "      <td>Baby Care</td>\n",
       "      <td>Buy WallDesign Small Vinyl Sticker for Rs.730 ...</td>\n",
       "    </tr>\n",
       "    <tr>\n",
       "      <th>19996</th>\n",
       "      <td>Baby Care</td>\n",
       "      <td>Buy Wallmantra Large Vinyl Stickers Sticker fo...</td>\n",
       "    </tr>\n",
       "    <tr>\n",
       "      <th>19997</th>\n",
       "      <td>Baby Care</td>\n",
       "      <td>Buy Elite Collection Medium Acrylic Sticker fo...</td>\n",
       "    </tr>\n",
       "    <tr>\n",
       "      <th>19998</th>\n",
       "      <td>Baby Care</td>\n",
       "      <td>Buy Elite Collection Medium Acrylic Sticker fo...</td>\n",
       "    </tr>\n",
       "    <tr>\n",
       "      <th>19999</th>\n",
       "      <td>Baby Care</td>\n",
       "      <td>Buy Elite Collection Medium Acrylic Sticker fo...</td>\n",
       "    </tr>\n",
       "  </tbody>\n",
       "</table>\n",
       "</div>"
      ],
      "text/plain": [
       "         category                                        description\n",
       "19995  Baby Care   Buy WallDesign Small Vinyl Sticker for Rs.730 ...\n",
       "19996  Baby Care   Buy Wallmantra Large Vinyl Stickers Sticker fo...\n",
       "19997  Baby Care   Buy Elite Collection Medium Acrylic Sticker fo...\n",
       "19998  Baby Care   Buy Elite Collection Medium Acrylic Sticker fo...\n",
       "19999  Baby Care   Buy Elite Collection Medium Acrylic Sticker fo..."
      ]
     },
     "execution_count": 8,
     "metadata": {},
     "output_type": "execute_result"
    }
   ],
   "source": [
    "df.tail()"
   ]
  },
  {
   "cell_type": "code",
   "execution_count": 9,
   "id": "a0ee9ae4",
   "metadata": {},
   "outputs": [
    {
     "data": {
      "text/plain": [
       "17540"
      ]
     },
     "execution_count": 9,
     "metadata": {},
     "output_type": "execute_result"
    }
   ],
   "source": [
    "len(df['description'].unique())"
   ]
  },
  {
   "cell_type": "markdown",
   "id": "96ceab2d",
   "metadata": {},
   "source": [
    "#### Checking the object type of description"
   ]
  },
  {
   "cell_type": "code",
   "execution_count": 10,
   "id": "a7b14903",
   "metadata": {},
   "outputs": [
    {
     "data": {
      "text/plain": [
       "0        Key Features of Alisha Solid Women's Cycling S...\n",
       "1        FabHomeDecor Fabric Double Sofa Bed (Finish Co...\n",
       "2        Key Features of AW Bellies Sandals Wedges Heel...\n",
       "3        Key Features of Alisha Solid Women's Cycling S...\n",
       "4        Specifications of Sicons All Purpose Arnica Do...\n",
       "                               ...                        \n",
       "19995    Buy WallDesign Small Vinyl Sticker for Rs.730 ...\n",
       "19996    Buy Wallmantra Large Vinyl Stickers Sticker fo...\n",
       "19997    Buy Elite Collection Medium Acrylic Sticker fo...\n",
       "19998    Buy Elite Collection Medium Acrylic Sticker fo...\n",
       "19999    Buy Elite Collection Medium Acrylic Sticker fo...\n",
       "Name: description, Length: 20000, dtype: object"
      ]
     },
     "execution_count": 10,
     "metadata": {},
     "output_type": "execute_result"
    }
   ],
   "source": [
    "df['description']"
   ]
  },
  {
   "cell_type": "markdown",
   "id": "fa614297",
   "metadata": {},
   "source": [
    "#### Filling out any NaN as it is considered a float and would hinder with our further data cleaning"
   ]
  },
  {
   "cell_type": "code",
   "execution_count": 11,
   "id": "98b6c700",
   "metadata": {},
   "outputs": [],
   "source": [
    "df['description'] = df['description'].fillna('').astype(str)"
   ]
  },
  {
   "cell_type": "code",
   "execution_count": 12,
   "id": "e7ee0070",
   "metadata": {},
   "outputs": [
    {
     "data": {
      "text/plain": [
       "0        Key Features of Alisha Solid Women's Cycling S...\n",
       "1        FabHomeDecor Fabric Double Sofa Bed (Finish Co...\n",
       "2        Key Features of AW Bellies Sandals Wedges Heel...\n",
       "3        Key Features of Alisha Solid Women's Cycling S...\n",
       "4        Specifications of Sicons All Purpose Arnica Do...\n",
       "                               ...                        \n",
       "19995    Buy WallDesign Small Vinyl Sticker for Rs.730 ...\n",
       "19996    Buy Wallmantra Large Vinyl Stickers Sticker fo...\n",
       "19997    Buy Elite Collection Medium Acrylic Sticker fo...\n",
       "19998    Buy Elite Collection Medium Acrylic Sticker fo...\n",
       "19999    Buy Elite Collection Medium Acrylic Sticker fo...\n",
       "Name: description, Length: 20000, dtype: object"
      ]
     },
     "execution_count": 12,
     "metadata": {},
     "output_type": "execute_result"
    }
   ],
   "source": [
    "df.iloc[:,1]"
   ]
  },
  {
   "cell_type": "markdown",
   "id": "20cc8c7a",
   "metadata": {},
   "source": [
    "#### Using 'simple_preprocess' to remove unwanted symbols, punctuation and convert text to lower case for uniformity"
   ]
  },
  {
   "cell_type": "code",
   "execution_count": 13,
   "id": "f305ac25",
   "metadata": {},
   "outputs": [],
   "source": [
    "df.iloc[:,1] = df.iloc[:,1].apply(lambda x: ' '.join(simple_preprocess(x)))"
   ]
  },
  {
   "cell_type": "code",
   "execution_count": 14,
   "id": "22a33be2",
   "metadata": {},
   "outputs": [
    {
     "data": {
      "text/html": [
       "<div>\n",
       "<style scoped>\n",
       "    .dataframe tbody tr th:only-of-type {\n",
       "        vertical-align: middle;\n",
       "    }\n",
       "\n",
       "    .dataframe tbody tr th {\n",
       "        vertical-align: top;\n",
       "    }\n",
       "\n",
       "    .dataframe thead th {\n",
       "        text-align: right;\n",
       "    }\n",
       "</style>\n",
       "<table border=\"1\" class=\"dataframe\">\n",
       "  <thead>\n",
       "    <tr style=\"text-align: right;\">\n",
       "      <th></th>\n",
       "      <th>category</th>\n",
       "      <th>description</th>\n",
       "    </tr>\n",
       "  </thead>\n",
       "  <tbody>\n",
       "    <tr>\n",
       "      <th>0</th>\n",
       "      <td>Clothing</td>\n",
       "      <td>key features of alisha solid women cycling sho...</td>\n",
       "    </tr>\n",
       "    <tr>\n",
       "      <th>1</th>\n",
       "      <td>Furniture</td>\n",
       "      <td>fabhomedecor fabric double sofa bed finish col...</td>\n",
       "    </tr>\n",
       "    <tr>\n",
       "      <th>2</th>\n",
       "      <td>Footwear</td>\n",
       "      <td>key features of aw bellies sandals wedges heel...</td>\n",
       "    </tr>\n",
       "    <tr>\n",
       "      <th>3</th>\n",
       "      <td>Clothing</td>\n",
       "      <td>key features of alisha solid women cycling sho...</td>\n",
       "    </tr>\n",
       "    <tr>\n",
       "      <th>4</th>\n",
       "      <td>Pet Supplies</td>\n",
       "      <td>specifications of sicons all purpose arnica do...</td>\n",
       "    </tr>\n",
       "  </tbody>\n",
       "</table>\n",
       "</div>"
      ],
      "text/plain": [
       "        category                                        description\n",
       "0      Clothing   key features of alisha solid women cycling sho...\n",
       "1     Furniture   fabhomedecor fabric double sofa bed finish col...\n",
       "2      Footwear   key features of aw bellies sandals wedges heel...\n",
       "3      Clothing   key features of alisha solid women cycling sho...\n",
       "4  Pet Supplies   specifications of sicons all purpose arnica do..."
      ]
     },
     "execution_count": 14,
     "metadata": {},
     "output_type": "execute_result"
    }
   ],
   "source": [
    "df.head()"
   ]
  },
  {
   "cell_type": "markdown",
   "id": "320767cb",
   "metadata": {},
   "source": [
    "#### Prefixing all out category names with __label__ as a prerequisite for the 'fasttext' library to run"
   ]
  },
  {
   "cell_type": "code",
   "execution_count": 15,
   "id": "74c16ce7",
   "metadata": {},
   "outputs": [
    {
     "data": {
      "text/plain": [
       "0            Clothing \n",
       "1           Furniture \n",
       "2            Footwear \n",
       "3            Clothing \n",
       "4        Pet Supplies \n",
       "             ...      \n",
       "19995       Baby Care \n",
       "19996       Baby Care \n",
       "19997       Baby Care \n",
       "19998       Baby Care \n",
       "19999       Baby Care \n",
       "Name: category, Length: 20000, dtype: object"
      ]
     },
     "execution_count": 15,
     "metadata": {},
     "output_type": "execute_result"
    }
   ],
   "source": [
    "df.iloc[:, 0]"
   ]
  },
  {
   "cell_type": "code",
   "execution_count": 16,
   "id": "e85279f1",
   "metadata": {},
   "outputs": [],
   "source": [
    "df.iloc[:, 0] = df.iloc[:, 0].apply(lambda x: '__label__' + x)"
   ]
  },
  {
   "cell_type": "code",
   "execution_count": 17,
   "id": "3479b9bf",
   "metadata": {},
   "outputs": [
    {
     "data": {
      "text/html": [
       "<div>\n",
       "<style scoped>\n",
       "    .dataframe tbody tr th:only-of-type {\n",
       "        vertical-align: middle;\n",
       "    }\n",
       "\n",
       "    .dataframe tbody tr th {\n",
       "        vertical-align: top;\n",
       "    }\n",
       "\n",
       "    .dataframe thead th {\n",
       "        text-align: right;\n",
       "    }\n",
       "</style>\n",
       "<table border=\"1\" class=\"dataframe\">\n",
       "  <thead>\n",
       "    <tr style=\"text-align: right;\">\n",
       "      <th></th>\n",
       "      <th>category</th>\n",
       "      <th>description</th>\n",
       "    </tr>\n",
       "  </thead>\n",
       "  <tbody>\n",
       "    <tr>\n",
       "      <th>19995</th>\n",
       "      <td>__label__Baby Care</td>\n",
       "      <td>buy walldesign small vinyl sticker for rs onli...</td>\n",
       "    </tr>\n",
       "    <tr>\n",
       "      <th>19996</th>\n",
       "      <td>__label__Baby Care</td>\n",
       "      <td>buy wallmantra large vinyl stickers sticker fo...</td>\n",
       "    </tr>\n",
       "    <tr>\n",
       "      <th>19997</th>\n",
       "      <td>__label__Baby Care</td>\n",
       "      <td>buy elite collection medium acrylic sticker fo...</td>\n",
       "    </tr>\n",
       "    <tr>\n",
       "      <th>19998</th>\n",
       "      <td>__label__Baby Care</td>\n",
       "      <td>buy elite collection medium acrylic sticker fo...</td>\n",
       "    </tr>\n",
       "    <tr>\n",
       "      <th>19999</th>\n",
       "      <td>__label__Baby Care</td>\n",
       "      <td>buy elite collection medium acrylic sticker fo...</td>\n",
       "    </tr>\n",
       "  </tbody>\n",
       "</table>\n",
       "</div>"
      ],
      "text/plain": [
       "                  category                                        description\n",
       "19995  __label__Baby Care   buy walldesign small vinyl sticker for rs onli...\n",
       "19996  __label__Baby Care   buy wallmantra large vinyl stickers sticker fo...\n",
       "19997  __label__Baby Care   buy elite collection medium acrylic sticker fo...\n",
       "19998  __label__Baby Care   buy elite collection medium acrylic sticker fo...\n",
       "19999  __label__Baby Care   buy elite collection medium acrylic sticker fo..."
      ]
     },
     "execution_count": 17,
     "metadata": {},
     "output_type": "execute_result"
    }
   ],
   "source": [
    "df.tail()"
   ]
  },
  {
   "cell_type": "markdown",
   "id": "531e8a8c",
   "metadata": {},
   "source": [
    "#### Replacing whitespaces with '-' to not loose the complete category name in the prediction stage"
   ]
  },
  {
   "cell_type": "code",
   "execution_count": 18,
   "id": "65224270",
   "metadata": {},
   "outputs": [],
   "source": [
    "df.category = df.category.str.replace(' ', '-')"
   ]
  },
  {
   "cell_type": "markdown",
   "id": "ab9ec29a",
   "metadata": {},
   "source": [
    "### Segmenting data into test and train sets"
   ]
  },
  {
   "cell_type": "code",
   "execution_count": 19,
   "id": "cf571ac5",
   "metadata": {},
   "outputs": [],
   "source": [
    "df_2 = df[17501:-1]\n",
    "df = df[0:17501]"
   ]
  },
  {
   "cell_type": "markdown",
   "id": "f4923796",
   "metadata": {},
   "source": [
    "### Exporting to csv"
   ]
  },
  {
   "cell_type": "code",
   "execution_count": 20,
   "id": "595662bf",
   "metadata": {},
   "outputs": [],
   "source": [
    "df[['category', 'description']].to_csv('train_M.txt', \n",
    "                                          index = False, \n",
    "                                          sep = ' ',\n",
    "                                          header = None, \n",
    "                                          quoting = csv.QUOTE_NONE, \n",
    "                                          quotechar = \"\", \n",
    "                                          escapechar = \" \")\n",
    "\n",
    "df_2[['category', 'description']].to_csv('test_M.txt', \n",
    "                                     index = False, \n",
    "                                     sep = ' ',\n",
    "                                     header = None, \n",
    "                                     quoting = csv.QUOTE_NONE, \n",
    "                                     quotechar = \"\", \n",
    "                                     escapechar = \" \")"
   ]
  },
  {
   "cell_type": "markdown",
   "id": "81d62ba8",
   "metadata": {},
   "source": [
    "# Modelling and evaluation\n",
    "--------------"
   ]
  },
  {
   "cell_type": "code",
   "execution_count": 26,
   "id": "e75260b8",
   "metadata": {},
   "outputs": [],
   "source": [
    "model = fasttext.train_supervised('train_M.txt', wordNgrams = 1 ,epoch=70, lr=0.3)"
   ]
  },
  {
   "cell_type": "code",
   "execution_count": 27,
   "id": "12830233",
   "metadata": {},
   "outputs": [
    {
     "data": {
      "text/plain": [
       "(2435, 0.7831622176591376, 0.7831622176591376)"
      ]
     },
     "execution_count": 27,
     "metadata": {},
     "output_type": "execute_result"
    }
   ],
   "source": [
    "model.test('test_M.txt') "
   ]
  },
  {
   "cell_type": "markdown",
   "id": "0a896431",
   "metadata": {},
   "source": [
    "### The model yields values for precision at one as 0.783 and recall of one as 0.783 for a test set of 2435"
   ]
  },
  {
   "cell_type": "markdown",
   "id": "9b8955c6",
   "metadata": {},
   "source": [
    "#### Checking the models predictions. Note that the array value denotes the confidence of the model (the probability of the prediction to be correct according to the model)"
   ]
  },
  {
   "cell_type": "code",
   "execution_count": 28,
   "id": "a2ff605e",
   "metadata": {},
   "outputs": [
    {
     "name": "stdout",
     "output_type": "stream",
     "text": [
      "(('__label__Jewellery-',), array([0.99997842]))\n",
      "(('__label__Jewellery-',), array([0.99997842]))\n",
      "(('__label__Home-Furnishing-',), array([0.99760324]))\n",
      "(('__label__Mobiles-&-Accessories-',), array([0.99987459]))\n",
      "(('__label__Mobiles-&-Accessories-',), array([0.99999785]))\n"
     ]
    }
   ],
   "source": [
    "for i in range(0,5):\n",
    "    print(model.predict(df_2.iloc[i, 1]))"
   ]
  },
  {
   "cell_type": "code",
   "execution_count": 29,
   "id": "80b79f8b",
   "metadata": {},
   "outputs": [
    {
     "data": {
      "text/html": [
       "<div>\n",
       "<style scoped>\n",
       "    .dataframe tbody tr th:only-of-type {\n",
       "        vertical-align: middle;\n",
       "    }\n",
       "\n",
       "    .dataframe tbody tr th {\n",
       "        vertical-align: top;\n",
       "    }\n",
       "\n",
       "    .dataframe thead th {\n",
       "        text-align: right;\n",
       "    }\n",
       "</style>\n",
       "<table border=\"1\" class=\"dataframe\">\n",
       "  <thead>\n",
       "    <tr style=\"text-align: right;\">\n",
       "      <th></th>\n",
       "      <th>category</th>\n",
       "      <th>description</th>\n",
       "    </tr>\n",
       "  </thead>\n",
       "  <tbody>\n",
       "    <tr>\n",
       "      <th>17501</th>\n",
       "      <td>__label__Jewellery-</td>\n",
       "      <td>disney brass cubic zirconia rhodium bracelet b...</td>\n",
       "    </tr>\n",
       "    <tr>\n",
       "      <th>17502</th>\n",
       "      <td>__label__Jewellery-</td>\n",
       "      <td>disney brass cubic zirconia rhodium bracelet b...</td>\n",
       "    </tr>\n",
       "    <tr>\n",
       "      <th>17503</th>\n",
       "      <td>__label__Home-Furnishing-</td>\n",
       "      <td>rustic india geometric cushions cover pack of ...</td>\n",
       "    </tr>\n",
       "    <tr>\n",
       "      <th>17504</th>\n",
       "      <td>__label__Mobiles-&amp;-Accessories-</td>\n",
       "      <td>theskinmantra sleeve for all versions of apple...</td>\n",
       "    </tr>\n",
       "    <tr>\n",
       "      <th>17505</th>\n",
       "      <td>__label__Mobiles-&amp;-Accessories-</td>\n",
       "      <td>thelostpuppy back cover for apple ipad air mul...</td>\n",
       "    </tr>\n",
       "  </tbody>\n",
       "</table>\n",
       "</div>"
      ],
      "text/plain": [
       "                              category  \\\n",
       "17501              __label__Jewellery-   \n",
       "17502              __label__Jewellery-   \n",
       "17503        __label__Home-Furnishing-   \n",
       "17504  __label__Mobiles-&-Accessories-   \n",
       "17505  __label__Mobiles-&-Accessories-   \n",
       "\n",
       "                                             description  \n",
       "17501  disney brass cubic zirconia rhodium bracelet b...  \n",
       "17502  disney brass cubic zirconia rhodium bracelet b...  \n",
       "17503  rustic india geometric cushions cover pack of ...  \n",
       "17504  theskinmantra sleeve for all versions of apple...  \n",
       "17505  thelostpuppy back cover for apple ipad air mul...  "
      ]
     },
     "execution_count": 29,
     "metadata": {},
     "output_type": "execute_result"
    }
   ],
   "source": [
    "df_2.head()"
   ]
  },
  {
   "cell_type": "markdown",
   "id": "27d54373",
   "metadata": {},
   "source": [
    "# Saving the Model\n",
    "------------"
   ]
  },
  {
   "cell_type": "code",
   "execution_count": 30,
   "id": "99ec1ef5",
   "metadata": {},
   "outputs": [],
   "source": [
    "model.save_model('text_class.bin')"
   ]
  }
 ],
 "metadata": {
  "kernelspec": {
   "display_name": "Python 3",
   "language": "python",
   "name": "python3"
  },
  "language_info": {
   "codemirror_mode": {
    "name": "ipython",
    "version": 3
   },
   "file_extension": ".py",
   "mimetype": "text/x-python",
   "name": "python",
   "nbconvert_exporter": "python",
   "pygments_lexer": "ipython3",
   "version": "3.8.5"
  }
 },
 "nbformat": 4,
 "nbformat_minor": 5
}
